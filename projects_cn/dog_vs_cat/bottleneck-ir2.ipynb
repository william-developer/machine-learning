{
 "cells": [
  {
   "cell_type": "markdown",
   "metadata": {},
   "source": [
    "** 基于inception-resnet-v2对dog vs cat图片训练好的特征，去除全连接网络，重新训练 **\n",
    "* 模型训练特征 gap_inception_resnet_v2.h5"
   ]
  },
  {
   "cell_type": "code",
   "execution_count": null,
   "metadata": {
    "collapsed": true
   },
   "outputs": [],
   "source": [
    "from bottleneck_ir2 import create_inception_resnet_v2\n",
    "from keras.models import *\n",
    "from keras.layers import *\n",
    "from keras.applications import *\n",
    "from keras.preprocessing.image import *\n",
    "import h5py\n",
    "\n",
    "\n",
    "import warnings\n",
    "warnings.filterwarnings('ignore')\n",
    "\n",
    "model=create_inception_resnet_v2()\n",
    "model.load_weights('weight-v1.h5',by_name=True)\n",
    "width = 299\n",
    "height = 299\n",
    "input_tensor = Input((height, width, 3))\n",
    "x = input_tensor\n",
    "model = Model(model.input, GlobalAveragePooling2D()(model.output))\n",
    "\n",
    "gen = ImageDataGenerator()\n",
    "train_generator = gen.flow_from_directory(\"train2\", (width,height), shuffle=False,\n",
    "                                              batch_size=16)\n",
    "test_generator = gen.flow_from_directory(\"test2\", (width,height), shuffle=False,\n",
    "                                             batch_size=16, class_mode=None)\n",
    "train = model.predict_generator(train_generator, train_generator.nb_sample)\n",
    "test = model.predict_generator(test_generator, test_generator.nb_sample)\n",
    "with h5py.File(\"gap_inception_resnet_v2.h5\") as h:\n",
    "     h.create_dataset(\"train\", data=train)\n",
    "     h.create_dataset(\"test\", data=test)\n",
    "     h.create_dataset(\"label\", data=train_generator.classes)"
   ]
  },
  {
   "cell_type": "code",
   "execution_count": null,
   "metadata": {
    "collapsed": true
   },
   "outputs": [],
   "source": []
  }
 ],
 "metadata": {
  "kernelspec": {
   "display_name": "Python 2",
   "language": "python",
   "name": "python2"
  },
  "language_info": {
   "codemirror_mode": {
    "name": "ipython",
    "version": 2
   },
   "file_extension": ".py",
   "mimetype": "text/x-python",
   "name": "python",
   "nbconvert_exporter": "python",
   "pygments_lexer": "ipython2",
   "version": "2.7.13"
  }
 },
 "nbformat": 4,
 "nbformat_minor": 2
}
