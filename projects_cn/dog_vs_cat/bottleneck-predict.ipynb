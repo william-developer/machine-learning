{
 "cells": [
  {
   "cell_type": "markdown",
   "metadata": {},
   "source": [
    "** 模型预测 **"
   ]
  },
  {
   "cell_type": "code",
   "execution_count": 4,
   "metadata": {},
   "outputs": [],
   "source": [
    "import os\n",
    "from keras.preprocessing import image\n",
    "import numpy as np\n",
    "from keras.preprocessing.image import ImageDataGenerator\n",
    "from keras.utils import np_utils, generic_utils\n",
    "from keras.callbacks import EarlyStopping,ModelCheckpoint\n",
    "from PIL import Image\n",
    "from keras import optimizers\n",
    "from keras.applications import *\n",
    "from keras.models import *\n",
    "from keras.layers import *\n",
    "from bottleneck_ir2 import create_inception_resnet_v2"
   ]
  },
  {
   "cell_type": "code",
   "execution_count": null,
   "metadata": {},
   "outputs": [],
   "source": [
    "#初始化模型\n",
    "def model(MODEL,width=299,height=299,lambda_func=None):\n",
    "    x= Input((height, width, 3))\n",
    "    if lambda_func:\n",
    "        x = Lambda(lambda_func)(x)\n",
    "    base_model=MODEL(input_tensor=x, weights='imagenet', include_top=False)\n",
    "    return Model(base_model.input, GlobalAveragePooling2D()(base_model.output))\n",
    "\n",
    "#格式化输入\n",
    "def data_input(imgpath,width=299,height=299):\n",
    "    img= image.load_img(path=imgpath, target_size=(height, width))\n",
    "    return np.expand_dims(image.img_to_array(img), axis=0)\n",
    "#预训练模型的输入\n",
    "def input_n(imgpath,model_name,width=299,height=299,lambda_func=None):\n",
    "    format_input=data_input(imgpath,width,height)\n",
    "    m=model(model_name,width,height,lambda_func)\n",
    "    return m.predict(format_input)\n",
    "\n",
    "imgpath='1.jpg'\n",
    "input1=input_n(imgpath,ResNet50,224,224)\n",
    "input2=input_n(imgpath,Xception,299,299,xception.preprocess_input)\n",
    "\n",
    "m=create_inception_resnet_v2()\n",
    "m.load_weights('weight-v1.h5',by_name=True)\n",
    "m=Model(m.input, GlobalAveragePooling2D()(m.output))\n",
    "img= image.load_img(path=imgpath, target_size=(299, 299))\n",
    "a=np.expand_dims(np.asarray(img,dtype=\"float32\")/255, axis=0)\n",
    "input3=m.predict(a)\n",
    "\n",
    "x_input=[]\n",
    "x_input.append(np.array(input1))\n",
    "x_input.append(np.array(input2))\n",
    "x_input.append(np.array(input3))\n",
    "x_input = np.concatenate(x_input, axis=1)\n",
    "\n",
    "\n",
    "from keras.models import load_model\n",
    "model=load_model('model_bottleneck.h5')\n",
    "pred=model.predict(x_input, verbose=1)\n",
    "pred = pred.clip(min=0.005, max=0.995)\n",
    "print(pred)\n"
   ]
  },
  {
   "cell_type": "code",
   "execution_count": null,
   "metadata": {
    "collapsed": true
   },
   "outputs": [],
   "source": []
  }
 ],
 "metadata": {
  "kernelspec": {
   "display_name": "Python 2",
   "language": "python",
   "name": "python2"
  },
  "language_info": {
   "codemirror_mode": {
    "name": "ipython",
    "version": 2
   },
   "file_extension": ".py",
   "mimetype": "text/x-python",
   "name": "python",
   "nbconvert_exporter": "python",
   "pygments_lexer": "ipython2",
   "version": "2.7.13"
  }
 },
 "nbformat": 4,
 "nbformat_minor": 2
}
