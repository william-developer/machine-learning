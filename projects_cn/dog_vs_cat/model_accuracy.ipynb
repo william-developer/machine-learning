{
 "cells": [
  {
   "cell_type": "markdown",
   "metadata": {},
   "source": [
    "** Resnet50 Xeption 准确率**"
   ]
  },
  {
   "cell_type": "code",
   "execution_count": 15,
   "metadata": {},
   "outputs": [],
   "source": [
    "from keras.applications.resnet50 import ResNet50\n",
    "from keras.preprocessing import image\n",
    "from keras.applications.resnet50 import preprocess_input as r_preprocess_input, decode_predictions as r_decode_predictions\n",
    "from keras.applications.xception import Xception\n",
    "from keras.applications.xception import preprocess_input as x_preprocess_input, decode_predictions as x_decode_predictions\n",
    "\n",
    "import numpy as np\n",
    "import json\n",
    "import os\n",
    "import random\n",
    "\n",
    "def load(json_file):\n",
    "    with open(json_file) as f:\n",
    "        data = json.load(f)\n",
    "        return data\n",
    "dog=load('category/dog.json')\n",
    "cat=load('category/cat.json')\n",
    "model = ResNet50(weights='imagenet')\n"
   ]
  },
  {
   "cell_type": "code",
   "execution_count": 22,
   "metadata": {},
   "outputs": [],
   "source": [
    "def predict(model,img_path,preprocess_input=r_preprocess_input,decode_predictions=r_decode_predictions,targetsize=(224,224)):\n",
    "    img = image.load_img(img_path, target_size=targetsize)\n",
    "    x = image.img_to_array(img)\n",
    "    x = np.expand_dims(x, axis=0)\n",
    "    x = preprocess_input(x)\n",
    "\n",
    "    preds = model.predict(x)\n",
    "\n",
    "    return decode_predictions(preds, top=1)[0][0][0]"
   ]
  },
  {
   "cell_type": "code",
   "execution_count": 18,
   "metadata": {
    "collapsed": true
   },
   "outputs": [],
   "source": [
    "img_dir = 'train'\n",
    "filenames = os.listdir(img_dir)\n",
    "\n",
    "\n",
    "train_cat = filter(lambda x:x[:3] == 'cat', filenames)\n",
    "train_dog = filter(lambda x:x[:3] == 'dog', filenames)\n",
    "\n",
    "#选取1000张dog和1000张cat测试\n",
    "test_cat=random.sample(train_cat, 1000)\n",
    "test_dog=random.sample(train_dog, 1000)\n",
    "test=test_cat+test_cat\n",
    "\n"
   ]
  },
  {
   "cell_type": "code",
   "execution_count": null,
   "metadata": {
    "collapsed": true
   },
   "outputs": [],
   "source": [
    "correct=0\n",
    "for i in test:\n",
    "    a=predict(model,os.path.join(img_dir,i))\n",
    "    t=i.split('.')[0]\n",
    "    if t=='dog' and dog.has_key(a):\n",
    "            correct+=1\n",
    "    elif t=='cat' and cat.has_key(a):\n",
    "            correct+=1\n"
   ]
  },
  {
   "cell_type": "code",
   "execution_count": 5,
   "metadata": {},
   "outputs": [
    {
     "name": "stdout",
     "output_type": "stream",
     "text": [
      "0.701\n"
     ]
    }
   ],
   "source": [
    "print(float(correct)/len(test))"
   ]
  },
  {
   "cell_type": "code",
   "execution_count": 19,
   "metadata": {
    "collapsed": true
   },
   "outputs": [],
   "source": [
    "xception = Xception(weights='imagenet')"
   ]
  },
  {
   "cell_type": "code",
   "execution_count": 24,
   "metadata": {},
   "outputs": [
    {
     "name": "stdout",
     "output_type": "stream",
     "text": [
      "0.864\n"
     ]
    }
   ],
   "source": [
    "c=0\n",
    "for i in test:\n",
    "    a=predict(xception,os.path.join(img_dir,i),x_preprocess_input,x_decode_predictions,(299,299))\n",
    "    t=i.split('.')[0]\n",
    "    if t=='dog' and dog.has_key(a):\n",
    "            c+=1\n",
    "    elif t=='cat' and cat.has_key(a):\n",
    "            c+=1\n",
    "print(float(c)/len(test))"
   ]
  },
  {
   "cell_type": "code",
   "execution_count": null,
   "metadata": {
    "collapsed": true
   },
   "outputs": [],
   "source": []
  }
 ],
 "metadata": {
  "kernelspec": {
   "display_name": "Python 2",
   "language": "python",
   "name": "python2"
  },
  "language_info": {
   "codemirror_mode": {
    "name": "ipython",
    "version": 2
   },
   "file_extension": ".py",
   "mimetype": "text/x-python",
   "name": "python",
   "nbconvert_exporter": "python",
   "pygments_lexer": "ipython2",
   "version": "2.7.13"
  }
 },
 "nbformat": 4,
 "nbformat_minor": 2
}
